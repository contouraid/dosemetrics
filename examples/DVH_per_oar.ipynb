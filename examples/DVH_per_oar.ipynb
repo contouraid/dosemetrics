{
 "cells": [
  {
   "cell_type": "code",
   "execution_count": 1,
   "metadata": {
    "ExecuteTime": {
     "end_time": "2024-01-15T10:12:06.887498Z",
     "start_time": "2024-01-15T10:12:05.993990Z"
    }
   },
   "outputs": [],
   "source": [
    "import glob\n",
    "import pandas as pd\n",
    "import numpy as np\n",
    "\n",
    "import dosemetrics.dvh as dvh"
   ]
  },
  {
   "cell_type": "code",
   "execution_count": 2,
   "metadata": {
    "ExecuteTime": {
     "end_time": "2024-01-15T10:12:06.895099Z",
     "start_time": "2024-01-15T10:12:06.887786Z"
    }
   },
   "outputs": [],
   "source": [
    "def get_volumes(file_name):\n",
    "    volumes = {}\n",
    "        \n",
    "    df = pd.DataFrame()\n",
    "    with open(file_name, 'r') as f:\n",
    "        for line in f:\n",
    "            if \"Structure:\" in line:\n",
    "                idx = line.find(\" \") + 1\n",
    "                struct = line[idx:]\n",
    "                name = struct.split(\"\\n\")[0]\n",
    "                #print(\"parsing: \" + name)\n",
    "                for line in f:\n",
    "                    if 'Volume [cm' in line:\n",
    "                        idy = line.find(\":\") + 2\n",
    "                        vol = line[idy:]\n",
    "                        volume = vol.split(\"\\n\")[0]\n",
    "                        #print(name + \": \" + volume)\n",
    "                        volumes[name] = [volume]\n",
    "                        break\n",
    "    return volumes\n",
    "\n",
    "\n",
    "# Determine Area Between the Curves ABC.\n",
    "def abc_value(all_dvhs, directory):\n",
    "    ABC_values = {}\n",
    "    for structure in all_dvhs.columns.values:\n",
    "        if structure.endswith(\"vol\"):\n",
    "            difference = abs(all_dvhs.loc[\"AS_plan\"][structure] - all_dvhs.loc[\"Ref_plan\"][structure])\n",
    "            abc_fraction = np.nansum(difference) / 100000\n",
    "            name = structure.split(\"\\n\")[0]\n",
    "            if name.startswith(\"R_\"):\n",
    "                name = name.split(\"R_\")[-1]\n",
    "            ABC_values[name] = abc_fraction\n",
    "    case_name = directory.split(\"\\\\\")[-1]         \n",
    "    ABC_df = pd.DataFrame(ABC_values, index=[case_name]).T\n",
    "    return ABC_df\n"
   ]
  },
  {
   "cell_type": "code",
   "execution_count": 3,
   "metadata": {
    "ExecuteTime": {
     "end_time": "2024-01-15T10:12:15.620204Z",
     "start_time": "2024-01-15T10:12:06.900151Z"
    }
   },
   "outputs": [
    {
     "name": "stdout",
     "output_type": "stream",
     "text": [
      "['/Users/amithkamath/data/DLDP/astute-dvh/070/070_Alt2.txt', '/Users/amithkamath/data/DLDP/astute-dvh/070/070_Alt3.txt', '/Users/amithkamath/data/DLDP/astute-dvh/070/070_Alt1.txt', '/Users/amithkamath/data/DLDP/astute-dvh/070/070_Alt4.txt', '/Users/amithkamath/data/DLDP/astute-dvh/070/070_Reference.txt']\n",
      "['/Users/amithkamath/data/DLDP/astute-dvh/070/070_Alt2', '/Users/amithkamath/data/DLDP/astute-dvh/070/070_Alt3', '/Users/amithkamath/data/DLDP/astute-dvh/070/070_Alt1', '/Users/amithkamath/data/DLDP/astute-dvh/070/070_Alt4', '/Users/amithkamath/data/DLDP/astute-dvh/070/070_Reference']\n",
      "parsing/Users/amithkamath/data/DLDP/astute-dvh/070/070_Alt2.txt\n",
      "parsing/Users/amithkamath/data/DLDP/astute-dvh/070/070_Alt3.txt\n",
      "parsing/Users/amithkamath/data/DLDP/astute-dvh/070/070_Alt1.txt\n",
      "parsing/Users/amithkamath/data/DLDP/astute-dvh/070/070_Alt4.txt\n",
      "parsing/Users/amithkamath/data/DLDP/astute-dvh/070/070_Reference.txt\n"
     ]
    },
    {
     "ename": "KeyError",
     "evalue": "'AS_plan'",
     "output_type": "error",
     "traceback": [
      "\u001B[0;31m---------------------------------------------------------------------------\u001B[0m",
      "\u001B[0;31mKeyError\u001B[0m                                  Traceback (most recent call last)",
      "File \u001B[0;32m~/repo/dosemetrics/venv/lib/python3.9/site-packages/pandas/core/indexes/base.py:3790\u001B[0m, in \u001B[0;36mIndex.get_loc\u001B[0;34m(self, key)\u001B[0m\n\u001B[1;32m   3789\u001B[0m \u001B[38;5;28;01mtry\u001B[39;00m:\n\u001B[0;32m-> 3790\u001B[0m     \u001B[38;5;28;01mreturn\u001B[39;00m \u001B[38;5;28;43mself\u001B[39;49m\u001B[38;5;241;43m.\u001B[39;49m\u001B[43m_engine\u001B[49m\u001B[38;5;241;43m.\u001B[39;49m\u001B[43mget_loc\u001B[49m\u001B[43m(\u001B[49m\u001B[43mcasted_key\u001B[49m\u001B[43m)\u001B[49m\n\u001B[1;32m   3791\u001B[0m \u001B[38;5;28;01mexcept\u001B[39;00m \u001B[38;5;167;01mKeyError\u001B[39;00m \u001B[38;5;28;01mas\u001B[39;00m err:\n",
      "File \u001B[0;32mindex.pyx:152\u001B[0m, in \u001B[0;36mpandas._libs.index.IndexEngine.get_loc\u001B[0;34m()\u001B[0m\n",
      "File \u001B[0;32mindex.pyx:181\u001B[0m, in \u001B[0;36mpandas._libs.index.IndexEngine.get_loc\u001B[0;34m()\u001B[0m\n",
      "File \u001B[0;32mpandas/_libs/hashtable_class_helper.pxi:7080\u001B[0m, in \u001B[0;36mpandas._libs.hashtable.PyObjectHashTable.get_item\u001B[0;34m()\u001B[0m\n",
      "File \u001B[0;32mpandas/_libs/hashtable_class_helper.pxi:7088\u001B[0m, in \u001B[0;36mpandas._libs.hashtable.PyObjectHashTable.get_item\u001B[0;34m()\u001B[0m\n",
      "\u001B[0;31mKeyError\u001B[0m: 'AS_plan'",
      "\nThe above exception was the direct cause of the following exception:\n",
      "\u001B[0;31mKeyError\u001B[0m                                  Traceback (most recent call last)",
      "Cell \u001B[0;32mIn[3], line 27\u001B[0m\n\u001B[1;32m     24\u001B[0m     dvhs\u001B[38;5;241m.\u001B[39mappend(dvh\u001B[38;5;241m.\u001B[39mread_dvh_file(file))\n\u001B[1;32m     25\u001B[0m all_dvhs \u001B[38;5;241m=\u001B[39m pd\u001B[38;5;241m.\u001B[39mconcat(dvhs, keys\u001B[38;5;241m=\u001B[39mnames)\n\u001B[0;32m---> 27\u001B[0m df \u001B[38;5;241m=\u001B[39m \u001B[43mabc_value\u001B[49m\u001B[43m(\u001B[49m\u001B[43mall_dvhs\u001B[49m\u001B[43m,\u001B[49m\u001B[43m \u001B[49m\u001B[43mcase\u001B[49m\u001B[43m)\u001B[49m\n\u001B[1;32m     28\u001B[0m ABC_df\u001B[38;5;241m.\u001B[39mappend(df)\n\u001B[1;32m     29\u001B[0m \u001B[38;5;28mprint\u001B[39m(ABC_df)\n",
      "Cell \u001B[0;32mIn[2], line 28\u001B[0m, in \u001B[0;36mabc_value\u001B[0;34m(all_dvhs, directory)\u001B[0m\n\u001B[1;32m     26\u001B[0m \u001B[38;5;28;01mfor\u001B[39;00m structure \u001B[38;5;129;01min\u001B[39;00m all_dvhs\u001B[38;5;241m.\u001B[39mcolumns\u001B[38;5;241m.\u001B[39mvalues:\n\u001B[1;32m     27\u001B[0m     \u001B[38;5;28;01mif\u001B[39;00m structure\u001B[38;5;241m.\u001B[39mendswith(\u001B[38;5;124m\"\u001B[39m\u001B[38;5;124mvol\u001B[39m\u001B[38;5;124m\"\u001B[39m):\n\u001B[0;32m---> 28\u001B[0m         difference \u001B[38;5;241m=\u001B[39m \u001B[38;5;28mabs\u001B[39m(\u001B[43mall_dvhs\u001B[49m\u001B[38;5;241;43m.\u001B[39;49m\u001B[43mloc\u001B[49m\u001B[43m[\u001B[49m\u001B[38;5;124;43m\"\u001B[39;49m\u001B[38;5;124;43mAS_plan\u001B[39;49m\u001B[38;5;124;43m\"\u001B[39;49m\u001B[43m]\u001B[49m[structure] \u001B[38;5;241m-\u001B[39m all_dvhs\u001B[38;5;241m.\u001B[39mloc[\u001B[38;5;124m\"\u001B[39m\u001B[38;5;124mRef_plan\u001B[39m\u001B[38;5;124m\"\u001B[39m][structure])\n\u001B[1;32m     29\u001B[0m         abc_fraction \u001B[38;5;241m=\u001B[39m np\u001B[38;5;241m.\u001B[39mnansum(difference) \u001B[38;5;241m/\u001B[39m \u001B[38;5;241m100000\u001B[39m\n\u001B[1;32m     30\u001B[0m         name \u001B[38;5;241m=\u001B[39m structure\u001B[38;5;241m.\u001B[39msplit(\u001B[38;5;124m\"\u001B[39m\u001B[38;5;130;01m\\n\u001B[39;00m\u001B[38;5;124m\"\u001B[39m)[\u001B[38;5;241m0\u001B[39m]\n",
      "File \u001B[0;32m~/repo/dosemetrics/venv/lib/python3.9/site-packages/pandas/core/indexing.py:1153\u001B[0m, in \u001B[0;36m_LocationIndexer.__getitem__\u001B[0;34m(self, key)\u001B[0m\n\u001B[1;32m   1150\u001B[0m axis \u001B[38;5;241m=\u001B[39m \u001B[38;5;28mself\u001B[39m\u001B[38;5;241m.\u001B[39maxis \u001B[38;5;129;01mor\u001B[39;00m \u001B[38;5;241m0\u001B[39m\n\u001B[1;32m   1152\u001B[0m maybe_callable \u001B[38;5;241m=\u001B[39m com\u001B[38;5;241m.\u001B[39mapply_if_callable(key, \u001B[38;5;28mself\u001B[39m\u001B[38;5;241m.\u001B[39mobj)\n\u001B[0;32m-> 1153\u001B[0m \u001B[38;5;28;01mreturn\u001B[39;00m \u001B[38;5;28;43mself\u001B[39;49m\u001B[38;5;241;43m.\u001B[39;49m\u001B[43m_getitem_axis\u001B[49m\u001B[43m(\u001B[49m\u001B[43mmaybe_callable\u001B[49m\u001B[43m,\u001B[49m\u001B[43m \u001B[49m\u001B[43maxis\u001B[49m\u001B[38;5;241;43m=\u001B[39;49m\u001B[43maxis\u001B[49m\u001B[43m)\u001B[49m\n",
      "File \u001B[0;32m~/repo/dosemetrics/venv/lib/python3.9/site-packages/pandas/core/indexing.py:1393\u001B[0m, in \u001B[0;36m_LocIndexer._getitem_axis\u001B[0;34m(self, key, axis)\u001B[0m\n\u001B[1;32m   1391\u001B[0m \u001B[38;5;66;03m# fall thru to straight lookup\u001B[39;00m\n\u001B[1;32m   1392\u001B[0m \u001B[38;5;28mself\u001B[39m\u001B[38;5;241m.\u001B[39m_validate_key(key, axis)\n\u001B[0;32m-> 1393\u001B[0m \u001B[38;5;28;01mreturn\u001B[39;00m \u001B[38;5;28;43mself\u001B[39;49m\u001B[38;5;241;43m.\u001B[39;49m\u001B[43m_get_label\u001B[49m\u001B[43m(\u001B[49m\u001B[43mkey\u001B[49m\u001B[43m,\u001B[49m\u001B[43m \u001B[49m\u001B[43maxis\u001B[49m\u001B[38;5;241;43m=\u001B[39;49m\u001B[43maxis\u001B[49m\u001B[43m)\u001B[49m\n",
      "File \u001B[0;32m~/repo/dosemetrics/venv/lib/python3.9/site-packages/pandas/core/indexing.py:1343\u001B[0m, in \u001B[0;36m_LocIndexer._get_label\u001B[0;34m(self, label, axis)\u001B[0m\n\u001B[1;32m   1341\u001B[0m \u001B[38;5;28;01mdef\u001B[39;00m \u001B[38;5;21m_get_label\u001B[39m(\u001B[38;5;28mself\u001B[39m, label, axis: AxisInt):\n\u001B[1;32m   1342\u001B[0m     \u001B[38;5;66;03m# GH#5567 this will fail if the label is not present in the axis.\u001B[39;00m\n\u001B[0;32m-> 1343\u001B[0m     \u001B[38;5;28;01mreturn\u001B[39;00m \u001B[38;5;28;43mself\u001B[39;49m\u001B[38;5;241;43m.\u001B[39;49m\u001B[43mobj\u001B[49m\u001B[38;5;241;43m.\u001B[39;49m\u001B[43mxs\u001B[49m\u001B[43m(\u001B[49m\u001B[43mlabel\u001B[49m\u001B[43m,\u001B[49m\u001B[43m \u001B[49m\u001B[43maxis\u001B[49m\u001B[38;5;241;43m=\u001B[39;49m\u001B[43maxis\u001B[49m\u001B[43m)\u001B[49m\n",
      "File \u001B[0;32m~/repo/dosemetrics/venv/lib/python3.9/site-packages/pandas/core/generic.py:4228\u001B[0m, in \u001B[0;36mNDFrame.xs\u001B[0;34m(self, key, axis, level, drop_level)\u001B[0m\n\u001B[1;32m   4225\u001B[0m     index \u001B[38;5;241m=\u001B[39m \u001B[38;5;28mself\u001B[39m\u001B[38;5;241m.\u001B[39mindex\n\u001B[1;32m   4227\u001B[0m \u001B[38;5;28;01mif\u001B[39;00m \u001B[38;5;28misinstance\u001B[39m(index, MultiIndex):\n\u001B[0;32m-> 4228\u001B[0m     loc, new_index \u001B[38;5;241m=\u001B[39m \u001B[43mindex\u001B[49m\u001B[38;5;241;43m.\u001B[39;49m\u001B[43m_get_loc_level\u001B[49m\u001B[43m(\u001B[49m\u001B[43mkey\u001B[49m\u001B[43m,\u001B[49m\u001B[43m \u001B[49m\u001B[43mlevel\u001B[49m\u001B[38;5;241;43m=\u001B[39;49m\u001B[38;5;241;43m0\u001B[39;49m\u001B[43m)\u001B[49m\n\u001B[1;32m   4229\u001B[0m     \u001B[38;5;28;01mif\u001B[39;00m \u001B[38;5;129;01mnot\u001B[39;00m drop_level:\n\u001B[1;32m   4230\u001B[0m         \u001B[38;5;28;01mif\u001B[39;00m lib\u001B[38;5;241m.\u001B[39mis_integer(loc):\n\u001B[1;32m   4231\u001B[0m             \u001B[38;5;66;03m# Slice index must be an integer or None\u001B[39;00m\n",
      "File \u001B[0;32m~/repo/dosemetrics/venv/lib/python3.9/site-packages/pandas/core/indexes/multi.py:3175\u001B[0m, in \u001B[0;36mMultiIndex._get_loc_level\u001B[0;34m(self, key, level)\u001B[0m\n\u001B[1;32m   3173\u001B[0m         \u001B[38;5;28;01mreturn\u001B[39;00m indexer, maybe_mi_droplevels(indexer, ilevels)\n\u001B[1;32m   3174\u001B[0m \u001B[38;5;28;01melse\u001B[39;00m:\n\u001B[0;32m-> 3175\u001B[0m     indexer \u001B[38;5;241m=\u001B[39m \u001B[38;5;28;43mself\u001B[39;49m\u001B[38;5;241;43m.\u001B[39;49m\u001B[43m_get_level_indexer\u001B[49m\u001B[43m(\u001B[49m\u001B[43mkey\u001B[49m\u001B[43m,\u001B[49m\u001B[43m \u001B[49m\u001B[43mlevel\u001B[49m\u001B[38;5;241;43m=\u001B[39;49m\u001B[43mlevel\u001B[49m\u001B[43m)\u001B[49m\n\u001B[1;32m   3176\u001B[0m     \u001B[38;5;28;01mif\u001B[39;00m (\n\u001B[1;32m   3177\u001B[0m         \u001B[38;5;28misinstance\u001B[39m(key, \u001B[38;5;28mstr\u001B[39m)\n\u001B[1;32m   3178\u001B[0m         \u001B[38;5;129;01mand\u001B[39;00m \u001B[38;5;28mself\u001B[39m\u001B[38;5;241m.\u001B[39mlevels[level]\u001B[38;5;241m.\u001B[39m_supports_partial_string_indexing\n\u001B[1;32m   3179\u001B[0m     ):\n\u001B[1;32m   3180\u001B[0m         \u001B[38;5;66;03m# check to see if we did an exact lookup vs sliced\u001B[39;00m\n\u001B[1;32m   3181\u001B[0m         check \u001B[38;5;241m=\u001B[39m \u001B[38;5;28mself\u001B[39m\u001B[38;5;241m.\u001B[39mlevels[level]\u001B[38;5;241m.\u001B[39mget_loc(key)\n",
      "File \u001B[0;32m~/repo/dosemetrics/venv/lib/python3.9/site-packages/pandas/core/indexes/multi.py:3276\u001B[0m, in \u001B[0;36mMultiIndex._get_level_indexer\u001B[0;34m(self, key, level, indexer)\u001B[0m\n\u001B[1;32m   3273\u001B[0m         \u001B[38;5;28;01mreturn\u001B[39;00m \u001B[38;5;28mslice\u001B[39m(i, j, step)\n\u001B[1;32m   3275\u001B[0m \u001B[38;5;28;01melse\u001B[39;00m:\n\u001B[0;32m-> 3276\u001B[0m     idx \u001B[38;5;241m=\u001B[39m \u001B[38;5;28;43mself\u001B[39;49m\u001B[38;5;241;43m.\u001B[39;49m\u001B[43m_get_loc_single_level_index\u001B[49m\u001B[43m(\u001B[49m\u001B[43mlevel_index\u001B[49m\u001B[43m,\u001B[49m\u001B[43m \u001B[49m\u001B[43mkey\u001B[49m\u001B[43m)\u001B[49m\n\u001B[1;32m   3278\u001B[0m     \u001B[38;5;28;01mif\u001B[39;00m level \u001B[38;5;241m>\u001B[39m \u001B[38;5;241m0\u001B[39m \u001B[38;5;129;01mor\u001B[39;00m \u001B[38;5;28mself\u001B[39m\u001B[38;5;241m.\u001B[39m_lexsort_depth \u001B[38;5;241m==\u001B[39m \u001B[38;5;241m0\u001B[39m:\n\u001B[1;32m   3279\u001B[0m         \u001B[38;5;66;03m# Desired level is not sorted\u001B[39;00m\n\u001B[1;32m   3280\u001B[0m         \u001B[38;5;28;01mif\u001B[39;00m \u001B[38;5;28misinstance\u001B[39m(idx, \u001B[38;5;28mslice\u001B[39m):\n\u001B[1;32m   3281\u001B[0m             \u001B[38;5;66;03m# test_get_loc_partial_timestamp_multiindex\u001B[39;00m\n",
      "File \u001B[0;32m~/repo/dosemetrics/venv/lib/python3.9/site-packages/pandas/core/indexes/multi.py:2865\u001B[0m, in \u001B[0;36mMultiIndex._get_loc_single_level_index\u001B[0;34m(self, level_index, key)\u001B[0m\n\u001B[1;32m   2863\u001B[0m     \u001B[38;5;28;01mreturn\u001B[39;00m \u001B[38;5;241m-\u001B[39m\u001B[38;5;241m1\u001B[39m\n\u001B[1;32m   2864\u001B[0m \u001B[38;5;28;01melse\u001B[39;00m:\n\u001B[0;32m-> 2865\u001B[0m     \u001B[38;5;28;01mreturn\u001B[39;00m \u001B[43mlevel_index\u001B[49m\u001B[38;5;241;43m.\u001B[39;49m\u001B[43mget_loc\u001B[49m\u001B[43m(\u001B[49m\u001B[43mkey\u001B[49m\u001B[43m)\u001B[49m\n",
      "File \u001B[0;32m~/repo/dosemetrics/venv/lib/python3.9/site-packages/pandas/core/indexes/base.py:3797\u001B[0m, in \u001B[0;36mIndex.get_loc\u001B[0;34m(self, key)\u001B[0m\n\u001B[1;32m   3792\u001B[0m     \u001B[38;5;28;01mif\u001B[39;00m \u001B[38;5;28misinstance\u001B[39m(casted_key, \u001B[38;5;28mslice\u001B[39m) \u001B[38;5;129;01mor\u001B[39;00m (\n\u001B[1;32m   3793\u001B[0m         \u001B[38;5;28misinstance\u001B[39m(casted_key, abc\u001B[38;5;241m.\u001B[39mIterable)\n\u001B[1;32m   3794\u001B[0m         \u001B[38;5;129;01mand\u001B[39;00m \u001B[38;5;28many\u001B[39m(\u001B[38;5;28misinstance\u001B[39m(x, \u001B[38;5;28mslice\u001B[39m) \u001B[38;5;28;01mfor\u001B[39;00m x \u001B[38;5;129;01min\u001B[39;00m casted_key)\n\u001B[1;32m   3795\u001B[0m     ):\n\u001B[1;32m   3796\u001B[0m         \u001B[38;5;28;01mraise\u001B[39;00m InvalidIndexError(key)\n\u001B[0;32m-> 3797\u001B[0m     \u001B[38;5;28;01mraise\u001B[39;00m \u001B[38;5;167;01mKeyError\u001B[39;00m(key) \u001B[38;5;28;01mfrom\u001B[39;00m \u001B[38;5;21;01merr\u001B[39;00m\n\u001B[1;32m   3798\u001B[0m \u001B[38;5;28;01mexcept\u001B[39;00m \u001B[38;5;167;01mTypeError\u001B[39;00m:\n\u001B[1;32m   3799\u001B[0m     \u001B[38;5;66;03m# If we have a listlike key, _check_indexing_error will raise\u001B[39;00m\n\u001B[1;32m   3800\u001B[0m     \u001B[38;5;66;03m#  InvalidIndexError. Otherwise we fall through and re-raise\u001B[39;00m\n\u001B[1;32m   3801\u001B[0m     \u001B[38;5;66;03m#  the TypeError.\u001B[39;00m\n\u001B[1;32m   3802\u001B[0m     \u001B[38;5;28mself\u001B[39m\u001B[38;5;241m.\u001B[39m_check_indexing_error(key)\n",
      "\u001B[0;31mKeyError\u001B[0m: 'AS_plan'"
     ]
    }
   ],
   "source": [
    "####### Main #######\n",
    "# select all cases in the data folder and iteratively determine all the DVHs\n",
    "directory = \"/Users/amithkamath/data/DLDP/astute-dvh\"\n",
    "cases = glob.glob(directory + \"/070/\")\n",
    "ABC_df = pd.DataFrame()\n",
    "for case in cases:\n",
    "    case_name = case.split(\"\\\\\")[-1]\n",
    "    # select the folder for which you want DVH curves. Select all the DVH files from the folder\n",
    "    dvh_files = glob.glob(case + \"/*.txt\")\n",
    "    n = len(dvh_files)\n",
    "    print(dvh_files)\n",
    "\n",
    "    # Retrieve the name of the study from the file names.\n",
    "    names = []\n",
    "    for name in dvh_files:\n",
    "        names.append(name.split(\"\\\\\")[-1].split(\".\")[0])\n",
    "    print(names)\n",
    "\n",
    "    # Reads all relevant data from the text files and constructs a concatenated dataframe of all dvh files \n",
    "    # in the selected folder\n",
    "    dvhs = []\n",
    "    for file in dvh_files:\n",
    "        print(\"parsing\" + file)\n",
    "        dvhs.append(dvh.read_dvh_file(file))\n",
    "    all_dvhs = pd.concat(dvhs, keys=names)\n",
    "    "
   ]
  }
 ],
 "metadata": {
  "kernelspec": {
   "display_name": "Python 3",
   "language": "python",
   "name": "python3"
  },
  "language_info": {
   "codemirror_mode": {
    "name": "ipython",
    "version": 3
   },
   "file_extension": ".py",
   "mimetype": "text/x-python",
   "name": "python",
   "nbconvert_exporter": "python",
   "pygments_lexer": "ipython3",
   "version": "3.8.5"
  }
 },
 "nbformat": 4,
 "nbformat_minor": 2
}
